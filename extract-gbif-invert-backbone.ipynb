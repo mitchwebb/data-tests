{
 "cells": [
  {
   "cell_type": "code",
   "execution_count": 1,
   "metadata": {},
   "outputs": [],
   "source": [
    "import pandas as pd\n",
    "import psycopg2\n",
    "from psycopg2 import sql"
   ]
  },
  {
   "cell_type": "code",
   "execution_count": 3,
   "metadata": {},
   "outputs": [],
   "source": [
    "df = pd.read_csv(\"C:\\\\Users\\\\mdw2685\\\\Desktop\\\\Projects\\\\early_tests\\\\GBIF_downloads\\\\0000148-250227182400228.csv\", delimiter='\\t')"
   ]
  },
  {
   "cell_type": "code",
   "execution_count": 14,
   "metadata": {},
   "outputs": [
    {
     "name": "stdout",
     "output_type": "stream",
     "text": [
      "       gbifID                            datasetKey  \\\n",
      "0  3858213309  50c9509d-22c7-4a22-a47d-8c48425ef4a7   \n",
      "1  4133669450  50c9509d-22c7-4a22-a47d-8c48425ef4a7   \n",
      "2  3747015355  50c9509d-22c7-4a22-a47d-8c48425ef4a7   \n",
      "3  2823201352  50c9509d-22c7-4a22-a47d-8c48425ef4a7   \n",
      "4  3384899122  50c9509d-22c7-4a22-a47d-8c48425ef4a7   \n",
      "\n",
      "                                        occurrenceID   kingdom    phylum  \\\n",
      "0    http://www.inaturalist.org/observations/2997096  Animalia  Chordata   \n",
      "1  https://www.inaturalist.org/observations/15801...  Animalia  Chordata   \n",
      "2  https://www.inaturalist.org/observations/39728783  Animalia  Chordata   \n",
      "3  https://www.inaturalist.org/observations/53881806  Animalia  Chordata   \n",
      "4  https://www.inaturalist.org/observations/95930379  Animalia  Chordata   \n",
      "\n",
      "        class            order     family         genus  \\\n",
      "0  Ascidiacea  Stolidobranchia  Styelidae     Stolonica   \n",
      "1  Ascidiacea  Stolidobranchia   Pyuridae         Pyura   \n",
      "2  Ascidiacea  Stolidobranchia   Pyuridae         Pyura   \n",
      "3  Ascidiacea  Stolidobranchia   Pyuridae         Pyura   \n",
      "4  Ascidiacea  Stolidobranchia  Styelidae  Botrylloides   \n",
      "\n",
      "                  species  infraspecificEpithet taxonRank  \\\n",
      "0      Stolonica socialis                   NaN   SPECIES   \n",
      "1         Pyura spinifera                   NaN   SPECIES   \n",
      "2         Pyura chilensis                   NaN   SPECIES   \n",
      "3    Pyura pachydermatina                   NaN   SPECIES   \n",
      "4  Botrylloides violaceus                   NaN   SPECIES   \n",
      "\n",
      "                           scientificName  verbatimScientificName  \\\n",
      "0      Stolonica socialis Hartmeyer, 1903      Stolonica socialis   \n",
      "1  Pyura spinifera (Quoy & Gaimard, 1834)         Pyura spinifera   \n",
      "2            Pyura chilensis Molina, 1782         Pyura chilensis   \n",
      "3    Pyura pachydermatina (Herdman, 1881)    Pyura pachydermatina   \n",
      "4        Botrylloides violaceus Oka, 1927  Botrylloides violaceus   \n",
      "\n",
      "   verbatimScientificNameAuthorship countryCode  locality    stateProvince  \\\n",
      "0                               NaN          ES       NaN          Galicia   \n",
      "1                               NaN          AU       NaN  New South Wales   \n",
      "2                               NaN          CL       NaN         Coquimbo   \n",
      "3                               NaN          NZ       NaN       Canterbury   \n",
      "4                               NaN          US       NaN       Washington   \n",
      "\n",
      "  occurrenceStatus  individualCount                      publishingOrgKey  \\\n",
      "0          PRESENT              NaN  28eb1a3f-1c15-4a95-931a-4af90ecb574d   \n",
      "1          PRESENT              NaN  28eb1a3f-1c15-4a95-931a-4af90ecb574d   \n",
      "2          PRESENT              NaN  28eb1a3f-1c15-4a95-931a-4af90ecb574d   \n",
      "3          PRESENT              NaN  28eb1a3f-1c15-4a95-931a-4af90ecb574d   \n",
      "4          PRESENT              NaN  28eb1a3f-1c15-4a95-931a-4af90ecb574d   \n",
      "\n",
      "   decimalLatitude  decimalLongitude  coordinateUncertaintyInMeters  \\\n",
      "0        43.461765         -8.301415                            NaN   \n",
      "1       -33.839343        151.278541                            NaN   \n",
      "2       -30.263912        -71.495247                            5.0   \n",
      "3       -44.375706        171.251744                            8.0   \n",
      "4        47.584341       -122.370136                          180.0   \n",
      "\n",
      "   coordinatePrecision  elevation  elevationAccuracy  depth  depthAccuracy  \\\n",
      "0                  NaN        NaN                NaN    NaN            NaN   \n",
      "1                  NaN        NaN                NaN    NaN            NaN   \n",
      "2                  NaN        NaN                NaN    NaN            NaN   \n",
      "3                  NaN        NaN                NaN    NaN            NaN   \n",
      "4                  NaN        NaN                NaN    NaN            NaN   \n",
      "\n",
      "             eventDate  day  month  year  taxonKey  speciesKey  \\\n",
      "0  2012-05-09T09:17:49    9      5  2012   2332430   2332430.0   \n",
      "1  2023-04-08T10:45:03    8      4  2023   2331793   2331793.0   \n",
      "2  2020-03-08T18:44:24    8      3  2020   2331862   2331862.0   \n",
      "3     2014-10-20T23:01   20     10  2014   2331849   2331849.0   \n",
      "4     2021-09-23T09:25   23      9  2021   4354941   4354941.0   \n",
      "\n",
      "       basisOfRecord institutionCode collectionCode  catalogNumber  \\\n",
      "0  HUMAN_OBSERVATION     iNaturalist   Observations        2997096   \n",
      "1  HUMAN_OBSERVATION     iNaturalist   Observations      158018380   \n",
      "2  HUMAN_OBSERVATION     iNaturalist   Observations       39728783   \n",
      "3  HUMAN_OBSERVATION     iNaturalist   Observations       53881806   \n",
      "4  HUMAN_OBSERVATION     iNaturalist   Observations       95930379   \n",
      "\n",
      "   recordNumber        identifiedBy       dateIdentified       license  \\\n",
      "0           NaN    João Pedro Silva  2016-04-21T21:02:29  CC_BY_NC_4_0   \n",
      "1           NaN        Erik Schlogl  2023-04-30T09:55:43  CC_BY_NC_4_0   \n",
      "2           NaN  Diego Almendras G.  2020-03-08T23:49:00  CC_BY_NC_4_0   \n",
      "3           NaN       Vincent VALLI  2020-07-21T20:47:47  CC_BY_NC_4_0   \n",
      "4           NaN      canaryrockfish  2021-09-24T04:44:09  CC_BY_NC_4_0   \n",
      "\n",
      "         rightsHolder          recordedBy  typeStatus  establishmentMeans  \\\n",
      "0    João Pedro Silva    João Pedro Silva         NaN                 NaN   \n",
      "1        Erik Schlogl        Erik Schlogl         NaN                 NaN   \n",
      "2  Diego Almendras G.  Diego Almendras G.         NaN                 NaN   \n",
      "3       Vincent VALLI       Vincent VALLI         NaN                 NaN   \n",
      "4      canaryrockfish      canaryrockfish         NaN                 NaN   \n",
      "\n",
      "            lastInterpreted              mediaType  \\\n",
      "0  2025-02-16T12:09:17.064Z             StillImage   \n",
      "1  2025-02-16T14:26:09.941Z             StillImage   \n",
      "2  2025-02-16T12:36:20.628Z  StillImage;StillImage   \n",
      "3  2025-02-16T12:47:14.663Z             StillImage   \n",
      "4  2025-02-16T13:26:42.026Z  StillImage;StillImage   \n",
      "\n",
      "                                               issue  \n",
      "0  CONTINENT_DERIVED_FROM_COORDINATES;TAXON_MATCH...  \n",
      "1  COORDINATE_ROUNDED;CONTINENT_DERIVED_FROM_COOR...  \n",
      "2  COORDINATE_ROUNDED;CONTINENT_DERIVED_FROM_COOR...  \n",
      "3  COORDINATE_ROUNDED;CONTINENT_DERIVED_FROM_COOR...  \n",
      "4  COORDINATE_ROUNDED;CONTINENT_DERIVED_FROM_COOR...  \n"
     ]
    }
   ],
   "source": [
    "with pd.option_context('display.max_columns', 2000):\n",
    "    print(df.head())"
   ]
  },
  {
   "cell_type": "code",
   "execution_count": 60,
   "metadata": {},
   "outputs": [],
   "source": [
    "# GBIF taxon .tsv filepath\n",
    "taxon_fp = './backbone/Taxon.tsv'"
   ]
  },
  {
   "cell_type": "code",
   "execution_count": 6,
   "metadata": {},
   "outputs": [
    {
     "ename": "NameError",
     "evalue": "name 'taxon_fp' is not defined",
     "output_type": "error",
     "traceback": [
      "\u001b[1;31m---------------------------------------------------------------------------\u001b[0m",
      "\u001b[1;31mNameError\u001b[0m                                 Traceback (most recent call last)",
      "Cell \u001b[1;32mIn[6], line 2\u001b[0m\n\u001b[0;32m      1\u001b[0m \u001b[38;5;66;03m# read GBIF taxon file as TSV\u001b[39;00m\n\u001b[1;32m----> 2\u001b[0m df \u001b[38;5;241m=\u001b[39m pd\u001b[38;5;241m.\u001b[39mread_csv(\u001b[43mtaxon_fp\u001b[49m, delimiter\u001b[38;5;241m=\u001b[39m\u001b[38;5;124m'\u001b[39m\u001b[38;5;130;01m\\t\u001b[39;00m\u001b[38;5;124m'\u001b[39m, on_bad_lines\u001b[38;5;241m=\u001b[39m\u001b[38;5;124m'\u001b[39m\u001b[38;5;124mskip\u001b[39m\u001b[38;5;124m'\u001b[39m)\n",
      "\u001b[1;31mNameError\u001b[0m: name 'taxon_fp' is not defined"
     ]
    }
   ],
   "source": [
    "# read GBIF taxon file as TSV\n",
    "df = pd.read_csv(taxon_fp, delimiter='\\t', on_bad_lines='skip')"
   ]
  },
  {
   "cell_type": "code",
   "execution_count": 66,
   "metadata": {},
   "outputs": [],
   "source": [
    "# filter by non-Chordates in Animalia\n",
    "inverts_df = df.loc[(df['kingdom'] == 'Animalia') & (df['phylum'] != 'Chordata')]"
   ]
  },
  {
   "cell_type": "code",
   "execution_count": 67,
   "metadata": {},
   "outputs": [
    {
     "name": "stdout",
     "output_type": "stream",
     "text": [
      "          taxonID                             datasetID  parentNameUsageID  \\\n",
      "118       8987139  c8227bb4-4143-443f-8cb2-51f9576aff14                1.0   \n",
      "944             1  d7dddbf4-2cf0-4f39-9b2a-bb099caae36c                NaN   \n",
      "24012     7961678  80b4b440-eaca-4860-aadf-d0dfdd3e856e                1.0   \n",
      "24013     8137953  80b4b440-eaca-4860-aadf-d0dfdd3e856e                1.0   \n",
      "24014     7758685  80b4b440-eaca-4860-aadf-d0dfdd3e856e                1.0   \n",
      "...           ...                                   ...                ...   \n",
      "7694308  11346263  dbaa27eb-29e7-4cbb-8eab-3f689cfce116          1593713.0   \n",
      "7694310   1517849  7ddf754f-d193-4cc9-b351-99906754a03b          1517775.0   \n",
      "7694316   5970807  7ddf754f-d193-4cc9-b351-99906754a03b          2226678.0   \n",
      "7694317   2226679  7ddf754f-d193-4cc9-b351-99906754a03b          2226678.0   \n",
      "7694318   5970805  7ddf754f-d193-4cc9-b351-99906754a03b          2226678.0   \n",
      "\n",
      "         acceptedNameUsageID  originalNameUsageID  \\\n",
      "118                      NaN                  NaN   \n",
      "944                      NaN                  NaN   \n",
      "24012                    NaN                  NaN   \n",
      "24013                    NaN                  NaN   \n",
      "24014                    NaN                  NaN   \n",
      "...                      ...                  ...   \n",
      "7694308            1593734.0            1593735.0   \n",
      "7694310            1517848.0           11325753.0   \n",
      "7694316                  NaN            2226668.0   \n",
      "7694317                  NaN            5970691.0   \n",
      "7694318                  NaN            5970806.0   \n",
      "\n",
      "                                         scientificName  \\\n",
      "118      Stipecrinus Villanueva-Olea & Sour-Tovar, 2014   \n",
      "944                                            Animalia   \n",
      "24012                                        Liotheidae   \n",
      "24013                                       Turbinoidae   \n",
      "24014                                        Danaididae   \n",
      "...                                                 ...   \n",
      "7694308         Lestodiplosis polypori (Winnertz, 1853)   \n",
      "7694310               Orimarga stenoptera (Seguy, 1936)   \n",
      "7694316           Epialtoides kingsleyi (Rathbun, 1923)   \n",
      "7694317             Epialtoides hiltoni (Rathbun, 1923)   \n",
      "7694318               Epialtoides murphyi (Garth, 1948)   \n",
      "\n",
      "                   scientificNameAuthorship           canonicalName  \\\n",
      "118      Villanueva-Olea & Sour-Tovar, 2014             Stipecrinus   \n",
      "944                                     NaN                Animalia   \n",
      "24012                                   NaN              Liotheidae   \n",
      "24013                                   NaN             Turbinoidae   \n",
      "24014                                   NaN              Danaididae   \n",
      "...                                     ...                     ...   \n",
      "7694308                    (Winnertz, 1853)  Lestodiplosis polypori   \n",
      "7694310                       (Seguy, 1936)     Orimarga stenoptera   \n",
      "7694316                     (Rathbun, 1923)   Epialtoides kingsleyi   \n",
      "7694317                     (Rathbun, 1923)     Epialtoides hiltoni   \n",
      "7694318                       (Garth, 1948)     Epialtoides murphyi   \n",
      "\n",
      "           genericName specificEpithet  ...  \\\n",
      "118        Stipecrinus             NaN  ...   \n",
      "944           Animalia             NaN  ...   \n",
      "24012       Liotheidae             NaN  ...   \n",
      "24013      Turbinoidae             NaN  ...   \n",
      "24014       Danaididae             NaN  ...   \n",
      "...                ...             ...  ...   \n",
      "7694308  Lestodiplosis        polypori  ...   \n",
      "7694310       Orimarga      stenoptera  ...   \n",
      "7694316    Epialtoides       kingsleyi  ...   \n",
      "7694317    Epialtoides         hiltoni  ...   \n",
      "7694318    Epialtoides         murphyi  ...   \n",
      "\n",
      "                                           namePublishedIn taxonomicStatus  \\\n",
      "118      Villanueva-Olea, Rafael & Francisco Sour-Tovar...        accepted   \n",
      "944                                                    NaN        accepted   \n",
      "24012             <i>Handb. Entomol.</i>, <b>2</b>(2): 436        accepted   \n",
      "24013                                                  NaN        accepted   \n",
      "24014          <i>Acta Soc. Sci. fenn.</i>, <b>22</b>: 301        accepted   \n",
      "...                                                    ...             ...   \n",
      "7694308                                                NaN         synonym   \n",
      "7694310                                                NaN         synonym   \n",
      "7694316                                                NaN        accepted   \n",
      "7694317                                                NaN        accepted   \n",
      "7694318                                                NaN        accepted   \n",
      "\n",
      "         nomenclaturalStatus taxonRemarks   kingdom      phylum         class  \\\n",
      "118                      NaN          NaN  Animalia         NaN           NaN   \n",
      "944                      NaN          NaN  Animalia         NaN           NaN   \n",
      "24012                    NaN          NaN  Animalia         NaN           NaN   \n",
      "24013                    NaN          NaN  Animalia         NaN           NaN   \n",
      "24014                    NaN          NaN  Animalia         NaN           NaN   \n",
      "...                      ...          ...       ...         ...           ...   \n",
      "7694308                  NaN          NaN  Animalia  Arthropoda       Insecta   \n",
      "7694310                  NaN          NaN  Animalia  Arthropoda       Insecta   \n",
      "7694316                  NaN          NaN  Animalia  Arthropoda  Malacostraca   \n",
      "7694317                  NaN          NaN  Animalia  Arthropoda  Malacostraca   \n",
      "7694318                  NaN          NaN  Animalia  Arthropoda  Malacostraca   \n",
      "\n",
      "            order         family          genus  \n",
      "118           NaN            NaN    Stipecrinus  \n",
      "944           NaN            NaN            NaN  \n",
      "24012         NaN     Liotheidae            NaN  \n",
      "24013         NaN    Turbinoidae            NaN  \n",
      "24014         NaN     Danaididae            NaN  \n",
      "...           ...            ...            ...  \n",
      "7694308   Diptera  Cecidomyiidae  Lestodiplosis  \n",
      "7694310   Diptera     Limoniidae       Orimarga  \n",
      "7694316  Decapoda     Epialtidae    Epialtoides  \n",
      "7694317  Decapoda     Epialtidae    Epialtoides  \n",
      "7694318  Decapoda     Epialtidae    Epialtoides  \n",
      "\n",
      "[3978073 rows x 23 columns]\n"
     ]
    }
   ],
   "source": [
    "print(inverts_df)"
   ]
  },
  {
   "cell_type": "code",
   "execution_count": 68,
   "metadata": {},
   "outputs": [],
   "source": [
    "# save to csv\n",
    "inverts_df.to_csv('./Inverts_Taxon.csv', index=False)"
   ]
  },
  {
   "cell_type": "markdown",
   "metadata": {},
   "source": [
    "<h1>NEW TABLE CREATION</h1>"
   ]
  },
  {
   "cell_type": "code",
   "execution_count": null,
   "metadata": {},
   "outputs": [
    {
     "data": {
      "text/plain": [
       "<function cursor.close()>"
      ]
     },
     "execution_count": 3,
     "metadata": {},
     "output_type": "execute_result"
    }
   ],
   "source": [
    "# create psycopg2 connection\n",
    "conn = psycopg2.connect(dbname='tpwd-tests',\n",
    "                       user='postgres', host='localhost', port='5432',\n",
    "                       password='postgres')\n",
    "cur = conn.cursor()\n",
    "\n",
    "# begin table creation query\n",
    "query = 'DROP TABLE IF EXISTS ' + 'gbif_inverts_backbone' + ';\\n'\n",
    "query += 'CREATE TABLE ' + 'gbif_inverts_backbone' + '('\n",
    "\n",
    "# create table columns usings columns from GBIF csv\n",
    "# TODO:\n",
    "# the CHECKs are failing, as there are some values outside of those currently listed\n",
    "query += 'taxonID' + ' TEXT PRIMARY KEY,\\n'\n",
    "query += 'datasetID' + ' TEXT,\\n'\n",
    "query += 'parentNameUsageID' + ' TEXT,\\n'\n",
    "query += 'acceptedNameUsageID' + ' TEXT,\\n'\n",
    "query += 'originalNameUsageID' + ' TEXT,\\n'\n",
    "query += 'scientificName' + ' TEXT NOT NULL,\\n'\n",
    "query += 'scientificNameAuthorship' + ' TEXT,\\n'\n",
    "query += 'canonicalName' + ' TEXT,\\n'\n",
    "query += 'genericName' + ' TEXT,\\n'\n",
    "query += 'specificEpithet' + ' TEXT,\\n'\n",
    "query += 'infraspecificEpithet' + ' TEXT,\\n'\n",
    "query += 'taxonRank' + \" TEXT CHECK (taxonRank IN ('kingdom', 'phylum', 'class', 'order', 'family', 'genus', 'species', 'subspecies', 'variety')),\\n\"\n",
    "query += 'nameAccordingTo' + ' TEXT,\\n'\n",
    "query += 'namePublishedIn' + ' TEXT,\\n'\n",
    "# Check what all of these taxonomic statuses can be--this check is failing\n",
    "query += 'taxonomicStatus' + \" TEXT CHECK (taxonomicStatus IN ('accepted', 'synonym', 'misapplied', 'doubtful')),\\n\"\n",
    "query += 'nomenclaturalStatus' + ' TEXT,\\n' \n",
    "query += 'taxonRemarks' + ' TEXT,\\n'\n",
    "query += 'kingdom' + ' TEXT,\\n'\n",
    "query += 'phylum' + ' TEXT,\\n'\n",
    "query += 'class' + ' TEXT,\\n'\n",
    "query += '\"order\"' + ' TEXT,\\n'\n",
    "query += 'family' + ' TEXT,\\n'\n",
    "query += 'genus' + ' TEXT);'\n",
    "\n",
    "cur.execute(query)\n",
    "conn.commit()\n",
    "cur.close"
   ]
  },
  {
   "cell_type": "markdown",
   "metadata": {},
   "source": [
    "<h1>IMPORTING NEW COLUMNS FROM CSV</h1>"
   ]
  },
  {
   "cell_type": "code",
   "execution_count": 5,
   "metadata": {},
   "outputs": [
    {
     "data": {
      "text/plain": [
       "<function cursor.close()>"
      ]
     },
     "execution_count": 5,
     "metadata": {},
     "output_type": "execute_result"
    }
   ],
   "source": [
    "# create psycopg2 connection\n",
    "conn = psycopg2.connect(dbname='tpwd-tests',\n",
    "                       user='postgres', host='localhost', port='5432',\n",
    "                       password='postgres')\n",
    "cur = conn.cursor()\n",
    "\n",
    "# open csv, dump columns to matching names\n",
    "with open('./Inverts_Taxon.csv', 'r') as f:\n",
    "        next(f)\n",
    "        cur.copy_expert(\n",
    "                'COPY gbif_inverts_backbone FROM STDIN WITH CSV', f\n",
    "        )\n",
    "        \n",
    "conn.commit()\n",
    "cur.close"
   ]
  },
  {
   "cell_type": "markdown",
   "metadata": {},
   "source": [
    "It's important to index these new tables. This improves substring searches WILDLY"
   ]
  },
  {
   "cell_type": "code",
   "execution_count": null,
   "metadata": {},
   "outputs": [],
   "source": [
    "CREATE EXTENSION IF NOT EXISTS pg_trgm;\n",
    "\n",
    "CREATE INDEX idx_canonical_name_trgm ON gbif_inverts_backbone USING GIN (canonicalname gin_trgm_ops)"
   ]
  },
  {
   "cell_type": "code",
   "execution_count": null,
   "metadata": {},
   "outputs": [],
   "source": [
    "import zipfile\n",
    "\n"
   ]
  },
  {
   "cell_type": "code",
   "execution_count": null,
   "metadata": {},
   "outputs": [],
   "source": [
    "with zipfile.ZipFile(\"C:\\\\Users\\\\mdw2685\\\\Desktop\\\\Projects\\\\early_tests\\\\GBIF_downloads\\\\0000133-250227182430271.zip\", mode=\"r\") as zf:\n",
    "    files = zf.namelist()\n",
    "    if \"occurrence.txt\" in files:\n",
    "       zf.extract(\"occurrence.txt\")"
   ]
  },
  {
   "cell_type": "code",
   "execution_count": null,
   "metadata": {},
   "outputs": [],
   "source": []
  },
  {
   "cell_type": "code",
   "execution_count": null,
   "metadata": {},
   "outputs": [],
   "source": []
  },
  {
   "cell_type": "code",
   "execution_count": null,
   "metadata": {},
   "outputs": [],
   "source": []
  },
  {
   "cell_type": "code",
   "execution_count": null,
   "metadata": {},
   "outputs": [],
   "source": []
  }
 ],
 "metadata": {
  "kernelspec": {
   "display_name": "tpwd",
   "language": "python",
   "name": "python3"
  },
  "language_info": {
   "codemirror_mode": {
    "name": "ipython",
    "version": 3
   },
   "file_extension": ".py",
   "mimetype": "text/x-python",
   "name": "python",
   "nbconvert_exporter": "python",
   "pygments_lexer": "ipython3",
   "version": "3.13.2"
  }
 },
 "nbformat": 4,
 "nbformat_minor": 2
}
