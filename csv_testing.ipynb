{
 "cells": [
  {
   "cell_type": "code",
   "execution_count": 1,
   "metadata": {},
   "outputs": [],
   "source": [
    "import pandas as pd"
   ]
  },
  {
   "cell_type": "code",
   "execution_count": 11,
   "metadata": {},
   "outputs": [],
   "source": [
    "filepath = \"C:\\\\Users\\\\mdw2685\\\\Desktop\\\\Projects\\\\db-tests\\\\backend\\\\temp_data\\\\occurrence.txt\"\n",
    "\n",
    "df = pd.read_csv(filepath, nrows=200, delimiter=\"\\t\")"
   ]
  },
  {
   "cell_type": "code",
   "execution_count": 16,
   "metadata": {},
   "outputs": [],
   "source": [
    "pd.set_option(\"display.max_colwidth\", None)"
   ]
  },
  {
   "cell_type": "code",
   "execution_count": 19,
   "metadata": {},
   "outputs": [
    {
     "data": {
      "text/plain": [
       "['gbifID',\n",
       " 'accessRights',\n",
       " 'bibliographicCitation',\n",
       " 'language',\n",
       " 'license',\n",
       " 'modified',\n",
       " 'publisher',\n",
       " 'references',\n",
       " 'rightsHolder',\n",
       " 'type',\n",
       " 'institutionID',\n",
       " 'collectionID',\n",
       " 'datasetID',\n",
       " 'institutionCode',\n",
       " 'collectionCode',\n",
       " 'datasetName',\n",
       " 'ownerInstitutionCode',\n",
       " 'basisOfRecord',\n",
       " 'informationWithheld',\n",
       " 'dataGeneralizations',\n",
       " 'dynamicProperties',\n",
       " 'occurrenceID',\n",
       " 'catalogNumber',\n",
       " 'recordNumber',\n",
       " 'recordedBy',\n",
       " 'recordedByID',\n",
       " 'individualCount',\n",
       " 'organismQuantity',\n",
       " 'organismQuantityType',\n",
       " 'sex',\n",
       " 'lifeStage',\n",
       " 'reproductiveCondition',\n",
       " 'caste',\n",
       " 'behavior',\n",
       " 'vitality',\n",
       " 'establishmentMeans',\n",
       " 'degreeOfEstablishment',\n",
       " 'pathway',\n",
       " 'georeferenceVerificationStatus',\n",
       " 'occurrenceStatus',\n",
       " 'preparations',\n",
       " 'disposition',\n",
       " 'associatedOccurrences',\n",
       " 'associatedReferences',\n",
       " 'associatedSequences',\n",
       " 'associatedTaxa',\n",
       " 'otherCatalogNumbers',\n",
       " 'occurrenceRemarks',\n",
       " 'organismID',\n",
       " 'organismName',\n",
       " 'organismScope',\n",
       " 'associatedOrganisms',\n",
       " 'previousIdentifications',\n",
       " 'organismRemarks',\n",
       " 'materialEntityID',\n",
       " 'materialEntityRemarks',\n",
       " 'verbatimLabel',\n",
       " 'materialSampleID',\n",
       " 'eventID',\n",
       " 'parentEventID',\n",
       " 'eventType',\n",
       " 'fieldNumber',\n",
       " 'eventDate',\n",
       " 'eventTime',\n",
       " 'startDayOfYear',\n",
       " 'endDayOfYear',\n",
       " 'year',\n",
       " 'month',\n",
       " 'day',\n",
       " 'verbatimEventDate',\n",
       " 'habitat',\n",
       " 'samplingProtocol',\n",
       " 'sampleSizeValue',\n",
       " 'sampleSizeUnit',\n",
       " 'samplingEffort',\n",
       " 'fieldNotes',\n",
       " 'eventRemarks',\n",
       " 'locationID',\n",
       " 'higherGeographyID',\n",
       " 'higherGeography',\n",
       " 'continent',\n",
       " 'waterBody',\n",
       " 'islandGroup',\n",
       " 'island',\n",
       " 'countryCode',\n",
       " 'stateProvince',\n",
       " 'county',\n",
       " 'municipality',\n",
       " 'locality',\n",
       " 'verbatimLocality',\n",
       " 'verbatimElevation',\n",
       " 'verticalDatum',\n",
       " 'verbatimDepth',\n",
       " 'minimumDistanceAboveSurfaceInMeters',\n",
       " 'maximumDistanceAboveSurfaceInMeters',\n",
       " 'locationAccordingTo',\n",
       " 'locationRemarks',\n",
       " 'decimalLatitude',\n",
       " 'decimalLongitude',\n",
       " 'coordinateUncertaintyInMeters',\n",
       " 'coordinatePrecision',\n",
       " 'pointRadiusSpatialFit',\n",
       " 'verbatimCoordinateSystem',\n",
       " 'verbatimSRS',\n",
       " 'footprintWKT',\n",
       " 'footprintSRS',\n",
       " 'footprintSpatialFit',\n",
       " 'georeferencedBy',\n",
       " 'georeferencedDate',\n",
       " 'georeferenceProtocol',\n",
       " 'georeferenceSources',\n",
       " 'georeferenceRemarks',\n",
       " 'geologicalContextID',\n",
       " 'earliestEonOrLowestEonothem',\n",
       " 'latestEonOrHighestEonothem',\n",
       " 'earliestEraOrLowestErathem',\n",
       " 'latestEraOrHighestErathem',\n",
       " 'earliestPeriodOrLowestSystem',\n",
       " 'latestPeriodOrHighestSystem',\n",
       " 'earliestEpochOrLowestSeries',\n",
       " 'latestEpochOrHighestSeries',\n",
       " 'earliestAgeOrLowestStage',\n",
       " 'latestAgeOrHighestStage',\n",
       " 'lowestBiostratigraphicZone',\n",
       " 'highestBiostratigraphicZone',\n",
       " 'lithostratigraphicTerms',\n",
       " 'group',\n",
       " 'formation',\n",
       " 'member',\n",
       " 'bed',\n",
       " 'identificationID',\n",
       " 'verbatimIdentification',\n",
       " 'identificationQualifier',\n",
       " 'typeStatus',\n",
       " 'identifiedBy',\n",
       " 'identifiedByID',\n",
       " 'dateIdentified',\n",
       " 'identificationReferences',\n",
       " 'identificationVerificationStatus',\n",
       " 'identificationRemarks',\n",
       " 'taxonID',\n",
       " 'scientificNameID',\n",
       " 'acceptedNameUsageID',\n",
       " 'parentNameUsageID',\n",
       " 'originalNameUsageID',\n",
       " 'nameAccordingToID',\n",
       " 'namePublishedInID',\n",
       " 'taxonConceptID',\n",
       " 'scientificName',\n",
       " 'acceptedNameUsage',\n",
       " 'parentNameUsage',\n",
       " 'originalNameUsage',\n",
       " 'nameAccordingTo',\n",
       " 'namePublishedIn',\n",
       " 'namePublishedInYear',\n",
       " 'higherClassification',\n",
       " 'kingdom',\n",
       " 'phylum',\n",
       " 'class',\n",
       " 'order',\n",
       " 'superfamily',\n",
       " 'family',\n",
       " 'subfamily',\n",
       " 'tribe',\n",
       " 'subtribe',\n",
       " 'genus',\n",
       " 'genericName',\n",
       " 'subgenus',\n",
       " 'infragenericEpithet',\n",
       " 'specificEpithet',\n",
       " 'infraspecificEpithet',\n",
       " 'cultivarEpithet',\n",
       " 'taxonRank',\n",
       " 'verbatimTaxonRank',\n",
       " 'vernacularName',\n",
       " 'nomenclaturalCode',\n",
       " 'taxonomicStatus',\n",
       " 'nomenclaturalStatus',\n",
       " 'taxonRemarks',\n",
       " 'datasetKey',\n",
       " 'publishingCountry',\n",
       " 'lastInterpreted',\n",
       " 'elevation',\n",
       " 'elevationAccuracy',\n",
       " 'depth',\n",
       " 'depthAccuracy',\n",
       " 'distanceFromCentroidInMeters',\n",
       " 'issue',\n",
       " 'mediaType',\n",
       " 'hasCoordinate',\n",
       " 'hasGeospatialIssues',\n",
       " 'taxonKey',\n",
       " 'acceptedTaxonKey',\n",
       " 'kingdomKey',\n",
       " 'phylumKey',\n",
       " 'classKey',\n",
       " 'orderKey',\n",
       " 'familyKey',\n",
       " 'genusKey',\n",
       " 'subgenusKey',\n",
       " 'speciesKey',\n",
       " 'species',\n",
       " 'acceptedScientificName',\n",
       " 'verbatimScientificName',\n",
       " 'typifiedName',\n",
       " 'protocol',\n",
       " 'lastParsed',\n",
       " 'lastCrawled',\n",
       " 'repatriated',\n",
       " 'relativeOrganismQuantity',\n",
       " 'projectId',\n",
       " 'isSequenced',\n",
       " 'gbifRegion',\n",
       " 'publishedByGbifRegion',\n",
       " 'level0Gid',\n",
       " 'level0Name',\n",
       " 'level1Gid',\n",
       " 'level1Name',\n",
       " 'level2Gid',\n",
       " 'level2Name',\n",
       " 'level3Gid',\n",
       " 'level3Name',\n",
       " 'iucnRedListCategory']"
      ]
     },
     "execution_count": 19,
     "metadata": {},
     "output_type": "execute_result"
    }
   ],
   "source": [
    "list(df.columns)"
   ]
  },
  {
   "cell_type": "code",
   "execution_count": null,
   "metadata": {},
   "outputs": [],
   "source": [
    "# Okay so we may need to read observations downloads in chunks\n",
    "\n",
    "# Then we need to use BeeBDC::jbd_Ctrans_chunker\n",
    "\n",
    "# Then we could do bdc::bdc_cooredinates_from_locality\n",
    "\n",
    "# Do we need to look at license information? Or is it irrelevant if it's publically available already?\n",
    "\n",
    "# Need to skip certain GBIF flags \"COORDINATE_INVALID\" \"ZERO_COORDINATE\""
   ]
  },
  {
   "cell_type": "markdown",
   "metadata": {},
   "source": [
    "Let's do a quick check to see — lat-longs within Texas shape vs. those with Texas state value"
   ]
  },
  {
   "cell_type": "code",
   "execution_count": null,
   "metadata": {},
   "outputs": [
    {
     "name": "stderr",
     "output_type": "stream",
     "text": [
      "C:\\Users\\mdw2685\\AppData\\Local\\Temp\\ipykernel_36252\\3697852927.py:10: DtypeWarning: Columns (208) have mixed types. Specify dtype option on import or set low_memory=False.\n",
      "  for df_chunk in csv_reader:\n"
     ]
    }
   ],
   "source": [
    "# LAT LONs WITH TEXAS STATE VALUE\n",
    "\n",
    "# Read CSV in in chunks\n",
    "file_path = \"C:\\\\Users\\\\mdw2685\\\\Desktop\\\\Projects\\\\db-tests\\\\backend\\\\temp_data\\\\occurrence.txt\"\n",
    "csv_reader = pd.read_csv(file_path, chunksize=1000000, delimiter=\"\\t\", on_bad_lines=\"warn\")\n",
    "\n",
    "full_df = None\n",
    "i=0\n",
    "\n",
    "for df_chunk in csv_reader:\n",
    "    print(i)\n",
    "    i += 1\n",
    "    # Check observations for \n",
    "    texas_only = df_chunk[df_chunk[\"stateProvince\"].str.lower() == \"texas\"]\n",
    "    if full_df is None:\n",
    "        full_df = texas_only\n",
    "    else:\n",
    "        pd.concat([full_df, texas_only], ignore_index = True)\n"
   ]
  },
  {
   "cell_type": "code",
   "execution_count": null,
   "metadata": {},
   "outputs": [],
   "source": [
    "full_df.shape()"
   ]
  },
  {
   "cell_type": "code",
   "execution_count": null,
   "metadata": {},
   "outputs": [],
   "source": []
  },
  {
   "cell_type": "code",
   "execution_count": null,
   "metadata": {},
   "outputs": [],
   "source": []
  },
  {
   "cell_type": "code",
   "execution_count": null,
   "metadata": {},
   "outputs": [],
   "source": []
  },
  {
   "cell_type": "code",
   "execution_count": null,
   "metadata": {},
   "outputs": [],
   "source": []
  },
  {
   "cell_type": "code",
   "execution_count": null,
   "metadata": {},
   "outputs": [],
   "source": []
  },
  {
   "cell_type": "code",
   "execution_count": null,
   "metadata": {},
   "outputs": [],
   "source": []
  },
  {
   "cell_type": "code",
   "execution_count": null,
   "metadata": {},
   "outputs": [],
   "source": []
  },
  {
   "cell_type": "code",
   "execution_count": null,
   "metadata": {},
   "outputs": [],
   "source": []
  },
  {
   "cell_type": "code",
   "execution_count": null,
   "metadata": {},
   "outputs": [],
   "source": []
  },
  {
   "cell_type": "code",
   "execution_count": null,
   "metadata": {},
   "outputs": [],
   "source": []
  },
  {
   "cell_type": "code",
   "execution_count": null,
   "metadata": {},
   "outputs": [],
   "source": []
  },
  {
   "cell_type": "code",
   "execution_count": null,
   "metadata": {},
   "outputs": [],
   "source": []
  },
  {
   "cell_type": "code",
   "execution_count": null,
   "metadata": {},
   "outputs": [],
   "source": []
  },
  {
   "cell_type": "code",
   "execution_count": null,
   "metadata": {},
   "outputs": [],
   "source": []
  },
  {
   "cell_type": "code",
   "execution_count": null,
   "metadata": {},
   "outputs": [],
   "source": []
  },
  {
   "cell_type": "code",
   "execution_count": null,
   "metadata": {},
   "outputs": [],
   "source": []
  },
  {
   "cell_type": "code",
   "execution_count": null,
   "metadata": {},
   "outputs": [],
   "source": []
  },
  {
   "cell_type": "code",
   "execution_count": null,
   "metadata": {},
   "outputs": [],
   "source": []
  },
  {
   "cell_type": "code",
   "execution_count": null,
   "metadata": {},
   "outputs": [],
   "source": []
  },
  {
   "cell_type": "code",
   "execution_count": null,
   "metadata": {},
   "outputs": [],
   "source": []
  },
  {
   "cell_type": "code",
   "execution_count": null,
   "metadata": {},
   "outputs": [],
   "source": []
  },
  {
   "cell_type": "code",
   "execution_count": null,
   "metadata": {},
   "outputs": [],
   "source": []
  },
  {
   "cell_type": "code",
   "execution_count": null,
   "metadata": {},
   "outputs": [],
   "source": []
  }
 ],
 "metadata": {
  "kernelspec": {
   "display_name": "tpwd",
   "language": "python",
   "name": "python3"
  },
  "language_info": {
   "codemirror_mode": {
    "name": "ipython",
    "version": 3
   },
   "file_extension": ".py",
   "mimetype": "text/x-python",
   "name": "python",
   "nbconvert_exporter": "python",
   "pygments_lexer": "ipython3",
   "version": "3.13.2"
  }
 },
 "nbformat": 4,
 "nbformat_minor": 2
}
