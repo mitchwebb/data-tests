{
 "cells": [
  {
   "cell_type": "code",
   "execution_count": 2,
   "metadata": {},
   "outputs": [],
   "source": [
    "import pandas as pd\n",
    "import psycopg2\n",
    "from psycopg2 import sql"
   ]
  },
  {
   "cell_type": "code",
   "execution_count": 20,
   "metadata": {},
   "outputs": [
    {
     "name": "stderr",
     "output_type": "stream",
     "text": [
      "C:\\Users\\mdw2685\\AppData\\Local\\Temp\\ipykernel_8684\\1603500859.py:1: DtypeWarning: Columns (1,3,5,7,8,9,10,11,12,15,18,20,22,23,25,28,29,30,31,34,38,40,41,42,44,45,46,47,52,58,61,63,69,70,71,76,77,79,81,83,86,87,88,89,90,92,95,96,102,107,108,109,110,111,132,133,134,135,136,137,139,155,170,173,175,188,208,210,220,221) have mixed types. Specify dtype option on import or set low_memory=False.\n",
      "  df = pd.read_csv(\"C:\\\\Users\\\\mdw2685\\\\Desktop\\\\Projects\\\\early_tests\\\\data\\\\texas_by_name.csv\")\n"
     ]
    }
   ],
   "source": [
    "df = pd.read_csv(\"C:\\\\Users\\\\mdw2685\\\\Desktop\\\\Projects\\\\early_tests\\\\data\\\\texas_by_name.csv\")"
   ]
  },
  {
   "cell_type": "code",
   "execution_count": 21,
   "metadata": {},
   "outputs": [],
   "source": [
    "# Filter df to necessary columns\n",
    "df_filtered = df[[\"gbifID\", \n",
    "                  \"accessRights\", \n",
    "                  \"license\", \n",
    "                  \"modified\", \n",
    "                  \"publisher\", \n",
    "                  \"references\",\n",
    "                  \"rightsHolder\",\n",
    "                  \"recordedBy\",\n",
    "                  \"datasetID\",\n",
    "                  \"institutionCode\",\n",
    "                  \"datasetName\",\n",
    "                  \"informationWithheld\",\n",
    "                  \"occurrenceID\",\n",
    "                  \"individualCount\",\n",
    "                  \"eventDate\",\n",
    "                  \"eventTime\",\n",
    "                  \"year\",\n",
    "                  \"month\",\n",
    "                  \"day\",\n",
    "                  \"verbatimEventDate\",\n",
    "                  \"fieldNotes\",\n",
    "                  \"eventRemarks\",\n",
    "                  \"continent\",\n",
    "                  \"countryCode\",\n",
    "                  \"stateProvince\",\n",
    "                  \"county\",\n",
    "                  \"municipality\",\n",
    "                  \"locality\",\n",
    "                  \"verbatimLocality\",\n",
    "                  \"verbatimElevation\",\n",
    "                  \"elevation\",\n",
    "                  \"decimalLatitude\",\n",
    "                  \"decimalLongitude\",\n",
    "                  \"coordinateUncertaintyInMeters\",\n",
    "                  \"coordinatePrecision\",\n",
    "                  \"scientificName\",\n",
    "                  \"kingdom\",\n",
    "                  \"phylum\",\n",
    "                  \"class\",\n",
    "                  \"order\",\n",
    "                  \"superfamily\",\n",
    "                  \"family\",\n",
    "                  \"subfamily\",\n",
    "                  \"tribe\",\n",
    "                  \"subtribe\",\n",
    "                  \"genus\",\n",
    "                  \"genericName\",\n",
    "                  \"subgenus\",\n",
    "                  \"infragenericEpithet\",\n",
    "                  \"specificEpithet\",\n",
    "                  \"taxonRank\",\n",
    "                  \"taxonomicStatus\",\n",
    "                  \"datasetKey\",\n",
    "                  \"lastInterpreted\",\n",
    "                  \"issue\",\n",
    "                  \"taxonKey\",\n",
    "                  \"acceptedTaxonKey\",\n",
    "                  \"species\",\n",
    "                  \"acceptedScientificName\",\n",
    "                  \"verbatimScientificName\"]]"
   ]
  },
  {
   "cell_type": "code",
   "execution_count": 22,
   "metadata": {},
   "outputs": [],
   "source": [
    "df_filtered.to_csv(\"C:\\\\Users\\\\mdw2685\\\\Desktop\\\\Projects\\\\early_tests\\\\data\\\\texas_by_name_winnowed.csv\", index=False)"
   ]
  },
  {
   "cell_type": "code",
   "execution_count": 10,
   "metadata": {},
   "outputs": [
    {
     "data": {
      "text/plain": [
       "Index(['gbifID', 'accessRights', 'license', 'modified', 'publisher',\n",
       "       'references', 'rightsHolder', 'recordedBy', 'datasetID',\n",
       "       'institutionCode', 'datasetName', 'informationWithheld', 'occurrenceID',\n",
       "       'individualCount', 'eventDate', 'eventTime', 'year', 'month', 'day',\n",
       "       'verbatimEventDate', 'fieldNotes', 'eventRemarks', 'continent',\n",
       "       'countryCode', 'stateProvince', 'county', 'municipality', 'locality',\n",
       "       'verbatimLocality', 'verbatimElevation', 'elevation', 'decimalLatitude',\n",
       "       'decimalLongitude', 'coordinateUncertaintyInMeters',\n",
       "       'coordinatePrecision', 'scientificName', 'kingdom', 'phylum', 'class',\n",
       "       'order', 'superfamily', 'family', 'subfamily', 'tribe', 'subtribe',\n",
       "       'genus', 'genericName', 'subgenus', 'infragenericEpithet',\n",
       "       'specificEpithet', 'taxonRank', 'taxonomicStatus', 'datasetKey',\n",
       "       'lastInterpreted', 'issue', 'taxonKey', 'acceptedTaxonKey', 'species',\n",
       "       'acceptedScientificName', 'verbatimScientificName'],\n",
       "      dtype='object')"
      ]
     },
     "execution_count": 10,
     "metadata": {},
     "output_type": "execute_result"
    }
   ],
   "source": [
    "df_filtered.columns"
   ]
  },
  {
   "cell_type": "code",
   "execution_count": 17,
   "metadata": {},
   "outputs": [
    {
     "data": {
      "text/plain": [
       "<function cursor.close()>"
      ]
     },
     "execution_count": 17,
     "metadata": {},
     "output_type": "execute_result"
    }
   ],
   "source": [
    "# create psycopg2 connection\n",
    "conn = psycopg2.connect(dbname='tpwd-tests',\n",
    "                       user='postgres', host='localhost', port='5432',\n",
    "                       password='postgres')\n",
    "cur = conn.cursor()\n",
    "\n",
    "# begin table creation query\n",
    "query = 'DROP TABLE IF EXISTS ' + 'gbif_observations' + ';\\n'\n",
    "query += 'CREATE TABLE ' + 'gbif_observations' + '('\n",
    "\n",
    "# create table columns usings columns from GBIF csv\n",
    "query += 'gbifID' + ' BIGINT PRIMARY KEY,\\n'\n",
    "query += 'accessRights' + ' TEXT,\\n'\n",
    "query += 'license' + ' TEXT,\\n'\n",
    "query += 'modified' + ' TEXT,\\n'\n",
    "query += 'publisher' + ' TEXT,\\n'\n",
    "query += '\"references\"' + ' TEXT,\\n'\n",
    "query += 'rightsHolder' + ' TEXT,\\n'\n",
    "query += 'recordedBy' + ' TEXT,\\n'\n",
    "query += 'datasetID' + ' TEXT,\\n'\n",
    "query += 'institutionCode' + ' TEXT,\\n'\n",
    "query += 'datasetName' + ' TEXT,\\n'\n",
    "query += 'informationWithheld' + ' TEXT,\\n'\n",
    "query += 'occurrenceID' + ' TEXT,\\n'\n",
    "query += 'individualCount' + ' TEXT,\\n'\n",
    "query += 'eventDate' + ' TEXT,\\n'\n",
    "query += 'eventTime' + ' TEXT,\\n'\n",
    "query += 'year' + ' TEXT,\\n'\n",
    "query += 'month' + ' TEXT,\\n'\n",
    "query += 'day' + ' TEXT,\\n'\n",
    "query += 'verbatimEventDate' + ' TEXT,\\n'\n",
    "query += 'fieldNotes' + ' TEXT,\\n'\n",
    "query += 'eventRemarks' + ' TEXT,\\n'\n",
    "query += 'continent' + ' TEXT,\\n'\n",
    "query += 'countryCode' + ' TEXT,\\n'\n",
    "query += 'stateProvince' + ' TEXT,\\n'\n",
    "query += 'county' + ' TEXT,\\n'\n",
    "query += 'municipality' + ' TEXT,\\n'\n",
    "query += 'locality' + ' TEXT,\\n'\n",
    "query += 'verbatimLocality' + ' TEXT,\\n'\n",
    "query += 'verbatimElevation' + ' TEXT,\\n'\n",
    "query += 'elevation' + ' TEXT,\\n'\n",
    "query += 'decimalLatitude' + ' DOUBLE PRECISION,\\n'\n",
    "query += 'decimalLongitude' + ' DOUBLE PRECISION,\\n'\n",
    "query += 'coordinateUncertaintyInMeters' + ' TEXT,\\n'\n",
    "query += 'coordinatePrecision' + ' TEXT,\\n'\n",
    "query += 'scientificName' + ' TEXT,\\n'\n",
    "query += 'kingdom' + ' TEXT,\\n'\n",
    "query += 'phylum' + ' TEXT,\\n'\n",
    "query += 'class' + ' TEXT,\\n'\n",
    "query += '\"order\"' + ' TEXT,\\n'\n",
    "query += 'superfamily' + ' TEXT,\\n'\n",
    "query += 'family' + ' TEXT,\\n'\n",
    "query += 'subfamily' + ' TEXT,\\n'\n",
    "query += 'tribe' + ' TEXT,\\n'\n",
    "query += 'subtribe' + ' TEXT,\\n'\n",
    "query += 'genus' + ' TEXT,\\n'\n",
    "query += 'genericName' + ' TEXT,\\n'\n",
    "query += 'subgenus' + ' TEXT,\\n'\n",
    "query += 'infragenericEpithet' + ' TEXT,\\n'\n",
    "query += 'specificEpithet' + ' TEXT,\\n'\n",
    "query += 'taxonRank' + ' TEXT,\\n'\n",
    "query += 'taxonomicStatus' + ' TEXT,\\n'\n",
    "query += 'datasetKey' + ' TEXT,\\n'\n",
    "query += 'lastInterpreted' + ' TEXT,\\n'\n",
    "query += 'issue' + ' TEXT,\\n'\n",
    "query += 'taxonKey' + ' TEXT,\\n'\n",
    "query += 'acceptedTaxonKey' + ' TEXT,\\n'\n",
    "query += 'species' + ' TEXT,\\n'\n",
    "query += 'acceptedScientificName' + ' TEXT,\\n'\n",
    "query += 'verbatimScientificName'+ ' TEXT);'\n",
    "\n",
    "cur.execute(query)\n",
    "conn.commit()\n",
    "cur.close"
   ]
  },
  {
   "cell_type": "code",
   "execution_count": 25,
   "metadata": {},
   "outputs": [
    {
     "name": "stderr",
     "output_type": "stream",
     "text": [
      "C:\\Users\\mdw2685\\AppData\\Local\\Temp\\ipykernel_8684\\513540230.py:1: DtypeWarning: Columns (1,3,5,6,8,10,11,15,19,21,25,26,27,28,29) have mixed types. Specify dtype option on import or set low_memory=False.\n",
      "  new_df = pd.read_csv('C:\\\\Users\\\\mdw2685\\\\Desktop\\\\Projects\\\\early_tests\\\\data\\\\texas_by_name_winnowed.csv')\n"
     ]
    }
   ],
   "source": [
    "new_df = pd.read_csv('C:\\\\Users\\\\mdw2685\\\\Desktop\\\\Projects\\\\early_tests\\\\data\\\\texas_by_name_winnowed.csv')"
   ]
  },
  {
   "cell_type": "code",
   "execution_count": 28,
   "metadata": {},
   "outputs": [
    {
     "data": {
      "text/plain": [
       "gbifID                                                                  3113682769\n",
       "accessRights                                                                   NaN\n",
       "license                                                               CC_BY_NC_4_0\n",
       "modified                                                      2022-12-20T01:36:21Z\n",
       "publisher                                                          iNaturalist.org\n",
       "references                       https://www.inaturalist.org/observations/78515241\n",
       "rightsHolder                                                         Curren Frasch\n",
       "recordedBy                                                           Curren Frasch\n",
       "datasetID                                                                      NaN\n",
       "institutionCode                                                        iNaturalist\n",
       "datasetName                                iNaturalist research-grade observations\n",
       "informationWithheld                                                            NaN\n",
       "occurrenceID                     https://www.inaturalist.org/observations/78515241\n",
       "individualCount                                                                NaN\n",
       "eventDate                                                      2021-05-12T18:03:56\n",
       "eventTime                                                           18:03:56-05:00\n",
       "year                                                                        2021.0\n",
       "month                                                                          5.0\n",
       "day                                                                           12.0\n",
       "verbatimEventDate                                              2021-05-12 18:03:56\n",
       "fieldNotes                                                                     NaN\n",
       "eventRemarks                                                                   NaN\n",
       "continent                                                            NORTH_AMERICA\n",
       "countryCode                                                                     US\n",
       "stateProvince                                                                Texas\n",
       "county                                                                         NaN\n",
       "municipality                                                                   NaN\n",
       "locality                                                                       NaN\n",
       "verbatimLocality                                   Circle C Ranch, Austin, TX, USA\n",
       "verbatimElevation                                                              NaN\n",
       "elevation                                                                      NaN\n",
       "decimalLatitude                                                          30.186583\n",
       "decimalLongitude                                                         -97.86155\n",
       "coordinateUncertaintyInMeters                                                  5.0\n",
       "coordinatePrecision                                                            NaN\n",
       "scientificName                                                            Sesaspis\n",
       "kingdom                                                                   Animalia\n",
       "phylum                                                                  Arthropoda\n",
       "class                                                                      Insecta\n",
       "order                                                                   Coleoptera\n",
       "superfamily                                                                    NaN\n",
       "family                                                                  Zopheridae\n",
       "subfamily                                                                      NaN\n",
       "tribe                                                                          NaN\n",
       "subtribe                                                                       NaN\n",
       "genus                                                                     Sesaspis\n",
       "genericName                                                               Sesaspis\n",
       "subgenus                                                                       NaN\n",
       "infragenericEpithet                                                            NaN\n",
       "specificEpithet                                                                NaN\n",
       "taxonRank                                                                    GENUS\n",
       "taxonomicStatus                                                           ACCEPTED\n",
       "datasetKey                                    50c9509d-22c7-4a22-a47d-8c48425ef4a7\n",
       "lastInterpreted                                           2025-05-06T12:27:17.322Z\n",
       "issue                            COORDINATE_ROUNDED;CONTINENT_DERIVED_FROM_COOR...\n",
       "taxonKey                                                                 4744087.0\n",
       "acceptedTaxonKey                                                         4744087.0\n",
       "species                                                                        NaN\n",
       "acceptedScientificName                                                    Sesaspis\n",
       "verbatimScientificName                                         Sesaspis emarginata\n",
       "Name: 0, dtype: object"
      ]
     },
     "execution_count": 28,
     "metadata": {},
     "output_type": "execute_result"
    }
   ],
   "source": [
    "new_df.iloc[0]"
   ]
  },
  {
   "cell_type": "markdown",
   "metadata": {},
   "source": [
    "ADD TABLE TO DATABASE"
   ]
  },
  {
   "cell_type": "code",
   "execution_count": 35,
   "metadata": {},
   "outputs": [
    {
     "data": {
      "text/plain": [
       "<function cursor.close()>"
      ]
     },
     "execution_count": 35,
     "metadata": {},
     "output_type": "execute_result"
    }
   ],
   "source": [
    "# create psycopg2 connection\n",
    "conn = psycopg2.connect(dbname='tpwd-tests',\n",
    "                       user='postgres', host='localhost', port='5432',\n",
    "                       password='postgres')\n",
    "cur = conn.cursor()\n",
    "\n",
    "# open csv, dump columns to matching names\n",
    "with open('C:\\\\Users\\\\mdw2685\\\\Desktop\\\\Projects\\\\early_tests\\\\data\\\\texas_by_name_winnowed.csv', 'r') as f:\n",
    "        next(f)\n",
    "        cur.copy_expert(\n",
    "                'COPY gbif_observations FROM STDIN WITH CSV', f\n",
    "        )\n",
    "        \n",
    "conn.commit()\n",
    "cur.close"
   ]
  },
  {
   "cell_type": "code",
   "execution_count": 33,
   "metadata": {},
   "outputs": [],
   "source": [
    "del new_df"
   ]
  },
  {
   "cell_type": "code",
   "execution_count": null,
   "metadata": {},
   "outputs": [],
   "source": []
  }
 ],
 "metadata": {
  "kernelspec": {
   "display_name": "tpwd",
   "language": "python",
   "name": "python3"
  },
  "language_info": {
   "codemirror_mode": {
    "name": "ipython",
    "version": 3
   },
   "file_extension": ".py",
   "mimetype": "text/x-python",
   "name": "python",
   "nbconvert_exporter": "python",
   "pygments_lexer": "ipython3",
   "version": "3.13.2"
  }
 },
 "nbformat": 4,
 "nbformat_minor": 2
}
