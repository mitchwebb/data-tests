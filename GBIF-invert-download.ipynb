{
 "cells": [
  {
   "cell_type": "code",
   "execution_count": 1,
   "metadata": {},
   "outputs": [],
   "source": [
    "import requests\n",
    "import time\n",
    "import os\n",
    "import zipfile\n",
    "import pandas as pd"
   ]
  },
  {
   "cell_type": "markdown",
   "metadata": {},
   "source": [
    "<h3>Non-chordata request for GBIF</h3>\n",
    "Excludes Chordata <b>except</b> tunicates (Ascidiacea, Thaliacea, Appendicularia) </br>\n",
    "<b>and</b> lancelets (Leptocardii) </br>\n",
    "Includes only Animalia\n"
   ]
  },
  {
   "cell_type": "code",
   "execution_count": 2,
   "metadata": {},
   "outputs": [],
   "source": [
    "\n",
    "request = '''{\n",
    "    \"creator\": \"mihtmo\",\n",
    "    \"notificationAddresses\": [\n",
    "        \"mitch.d.webb@gmail.com\"\n",
    "    ],\n",
    "    \"format\": \"SIMPLE_CSV\",\n",
    "    \"sendNotification\": true,\n",
    "    \"predicate\": {\n",
    "        \"type\": \"and\",\n",
    "        \"predicates\": [\n",
    "            {\n",
    "                \"type\": \"not\",\n",
    "                \"predicate\": {\n",
    "                    \"type\": \"equals\", \n",
    "                    \"key\": \"PHYLUM_KEY\", \n",
    "                    \"value\": \"44\"\n",
    "                }\n",
    "            },\n",
    "            {\n",
    "                \"type\": \"equals\",\n",
    "                \"key\": \"KINGDOM_KEY\",\n",
    "                \"value\": \"1\"\n",
    "            },\n",
    "            {\n",
    "                \"type\": \"in\",\n",
    "                \"key\": \"DATASET_KEY\",\n",
    "                \"values\": [\n",
    "                    \"96193ea2-f762-11e1-a439-00145eb45e9a\", \n",
    "                    \"50c9509d-22c7-4a22-a47d-8c48425ef4a7\",\n",
    "                    \"ba9984d8-d982-4fe6-b81c-a7585790034a\"\n",
    "                ]\n",
    "            }\n",
    "        ]\n",
    "    }\n",
    "}'''"
   ]
  },
  {
   "cell_type": "code",
   "execution_count": null,
   "metadata": {},
   "outputs": [],
   "source": [
    "url = 'occurrence/download/request'\n",
    "# # Currently UTIC (ba9984d8-d982-4fe6-b81c-a7585790034a), A&M (96193ea2-f762-11e1-a439-00145eb45e9a), and iNat Research Grade (50c9509d-22c7-4a22-a47d-8c48425ef4a7)\n",
    "\n",
    "# TODO:\n",
    "# This is, for some reason, only getting records from the iNat catalogue. Delve into this.\n",
    "\n",
    "request = '''{\n",
    "    \"creator\": \"mihtmo\",\n",
    "    \"notificationAddresses\": [\n",
    "        \"mitch.d.webb@gmail.com\"\n",
    "    ],\n",
    "    \"format\": \"DWCA\",\n",
    "    \"sendNotification\": true,\n",
    "    \"predicate\": {\n",
    "        \"type\": \"and\",\n",
    "        \"predicates\": [\n",
    "            {\n",
    "                \"type\": \"or\",\n",
    "                \"predicates\": [\n",
    "                    {\n",
    "                        \"type\": \"not\",\n",
    "                        \"predicate\": {\n",
    "                            \"type\": \"equals\", \n",
    "                            \"key\": \"PHYLUM_KEY\", \n",
    "                            \"value\": \"44\"\n",
    "                        }\n",
    "                    },\n",
    "                    {\n",
    "                        \"type\": \"in\",\n",
    "                        \"key\": \"CLASS_KEY\",\n",
    "                        \"values\": [\n",
    "                            \"207\",\n",
    "                            \"356\",\n",
    "                            \"211\",\n",
    "                            \"7375758\"\n",
    "                        ]\n",
    "                    }\n",
    "                ]\n",
    "            },\n",
    "            {\n",
    "                \"type\": \"equals\",\n",
    "                \"key\": \"KINGDOM_KEY\",\n",
    "                \"value\": \"1\"\n",
    "            },\n",
    "            {\n",
    "                \"type\": \"in\",\n",
    "                \"key\": \"DATASET_KEY\",\n",
    "                \"values\": [\n",
    "                    \"96193ea2-f762-11e1-a439-00145eb45e9a\", \n",
    "                    \"50c9509d-22c7-4a22-a47d-8c48425ef4a7\",\n",
    "                    \"ba9984d8-d982-4fe6-b81c-a7585790034a\"\n",
    "                ]\n",
    "            },\n",
    "            {\n",
    "                \"type\": \"equals\",\n",
    "                \"key\": \"OCCURRENCE_STATUS\",\n",
    "                \"value\": \"PRESENT\"\n",
    "            }\n",
    "        ]\n",
    "    }\n",
    "}'''"
   ]
  },
  {
   "cell_type": "code",
   "execution_count": 3,
   "metadata": {},
   "outputs": [],
   "source": [
    "def GBIF_request(endpoint: str, request_body: str, test=False):\n",
    "    \n",
    "    headers = {\n",
    "        \"Content-Type\": \"application/json\"\n",
    "    }\n",
    "    \n",
    "    if test == True:\n",
    "        GBIF_url = \"http://api.gbif-uat.org/v1/\"\n",
    "    else:\n",
    "        GBIF_url = \"http://api.gbif.org/v1/\"\n",
    "    \n",
    "    full_url = GBIF_url + endpoint\n",
    "    \n",
    "    try:\n",
    "        response = requests.post(full_url, data=request_body, auth=(\"mihtmo\", \"NmRC3yhF2jz#3L\"), headers=headers)\n",
    "        if response.status_code == 201:\n",
    "            print('Download request submitted successfully.')\n",
    "            print(f'Find this download request at https://www.gbif.org/occurrence/download/{response.text}')\n",
    "            return response.text\n",
    "        elif response.status_code == 400:\n",
    "            print(f'Error: {response.status_code}: Invalid Query')\n",
    "            return \n",
    "        elif response.status_code == 429:\n",
    "            print(f'Error: {response.status_code}: Too many concurrent downloads')\n",
    "            return\n",
    "        else:\n",
    "            print(f'Error: {response.status_code}: {response.text}')\n",
    "            \n",
    "    except Exception as e:\n",
    "        print(f\"Request failed: {e}\")\n",
    "        return None"
   ]
  },
  {
   "cell_type": "code",
   "execution_count": 4,
   "metadata": {},
   "outputs": [],
   "source": [
    "# Waits for GBIF download, attempting a download every 2 minutes for a default of around 17 minutes\n",
    "def get_GBIF_download(key: str, output_fp: str, time_to_wait: int = 1000):\n",
    "    \n",
    "    waiting_interval = 60\n",
    "    start_time = time.time()\n",
    "    end_time = start_time + time_to_wait\n",
    "    \n",
    "    while time.time() < end_time:\n",
    "        try:\n",
    "            # Send API request\n",
    "            response = requests.get(f'http://api.gbif.org/v1/occurrence/download/request/{key}')\n",
    "            if response.status_code == 302:\n",
    "                print(f'Download found. {response.text}')\n",
    "                return\n",
    "            elif response.status_code == 200:\n",
    "                print('Download found. Getting File.')\n",
    "                zip_fp = os.path.join(output_fp, f'{key}.zip') \n",
    "                with open(zip_fp, 'wb') as file:\n",
    "                    for chunk in response.iter_content(chunk_size=8192):\n",
    "                        file.write(chunk)\n",
    "                # with zipfile.ZipFile(zip_fp, 'r') as zip_ref:\n",
    "                #     print('Extracting files from zip...')\n",
    "                #     zip_ref.extractall(output_fp)\n",
    "                print('Deleting original zip...')\n",
    "                os.remove(zip_fp)\n",
    "                print(f'File downloaded successfully to {output_fp}')\n",
    "                return\n",
    "            elif response.status_code == 404:\n",
    "                print(f\"No response for that key. Download is likely still being processed in GBIF's system. Trying again in {waiting_interval} seconds.\")\n",
    "            elif response.status_code == 410:\n",
    "                print('Occurrence download file was erased and no longer exists.')\n",
    "                return\n",
    "            else:\n",
    "                print(f'Attempt failed. Status code: {response.status_code}.')\n",
    "                return\n",
    "        except Exception as e:\n",
    "            print(f'Error occurred: {e}')\n",
    "            \n",
    "        time.sleep(waiting_interval)\n",
    "    \n",
    "    print(f'No successful response received within {time_to_wait} seconds.')\n",
    "    return None\n",
    "            \n",
    "    "
   ]
  },
  {
   "cell_type": "code",
   "execution_count": 5,
   "metadata": {},
   "outputs": [],
   "source": [
    "# Define data root for output\n",
    "current_directory = os.getcwd()\n",
    "data_root = os.path.join(current_directory, 'GBIF_downloads')"
   ]
  },
  {
   "cell_type": "code",
   "execution_count": 6,
   "metadata": {},
   "outputs": [
    {
     "name": "stdout",
     "output_type": "stream",
     "text": [
      "Download request submitted successfully.\n",
      "Find this download request at https://www.gbif.org/occurrence/download/0007239-250310093411724\n"
     ]
    }
   ],
   "source": [
    "# Request download\n",
    "key = GBIF_request(url, request)"
   ]
  },
  {
   "cell_type": "code",
   "execution_count": 12,
   "metadata": {},
   "outputs": [
    {
     "name": "stdout",
     "output_type": "stream",
     "text": [
      "No response for that key. Download is likely still being processed in GBIF's system. Trying again in 60 seconds.\n",
      "No response for that key. Download is likely still being processed in GBIF's system. Trying again in 60 seconds.\n",
      "No response for that key. Download is likely still being processed in GBIF's system. Trying again in 60 seconds.\n",
      "No response for that key. Download is likely still being processed in GBIF's system. Trying again in 60 seconds.\n",
      "No response for that key. Download is likely still being processed in GBIF's system. Trying again in 60 seconds.\n",
      "Download found. Getting File.\n",
      "Deleting original zip...\n",
      "File downloaded successfully to c:\\Users\\mdw2685\\Desktop\\Projects\\early_tests\\GBIF_downloads\n"
     ]
    }
   ],
   "source": [
    " \n",
    "# Attempt to get .zip download and unpack .csv\n",
    "get_GBIF_download(key, data_root, 2000)"
   ]
  },
  {
   "cell_type": "code",
   "execution_count": 40,
   "metadata": {},
   "outputs": [],
   "source": [
    "df = pd.read_csv(os.path.join(data_root, f'{key}.csv'), sep='\\t')\n",
    "\n",
    "\n",
    "# df = pd.read_csv(os.path.join(output_fp, '0000970-250227182400228.csv'), sep='\\t')"
   ]
  },
  {
   "cell_type": "code",
   "execution_count": 41,
   "metadata": {},
   "outputs": [
    {
     "name": "stdout",
     "output_type": "stream",
     "text": [
      "['50c9509d-22c7-4a22-a47d-8c48425ef4a7']\n"
     ]
    }
   ],
   "source": [
    "print(df['datasetKey'].unique())"
   ]
  },
  {
   "cell_type": "code",
   "execution_count": 44,
   "metadata": {},
   "outputs": [
    {
     "data": {
      "text/plain": [
       "array(['Stolidobranchia', 'Aplousobranchia', 'Phlebobranchia', 'Salpida',\n",
       "       'Pyrosomatida', nan], dtype=object)"
      ]
     },
     "execution_count": 44,
     "metadata": {},
     "output_type": "execute_result"
    }
   ],
   "source": [
    "df['order'].unique()"
   ]
  },
  {
   "cell_type": "code",
   "execution_count": null,
   "metadata": {},
   "outputs": [],
   "source": []
  }
 ],
 "metadata": {
  "kernelspec": {
   "display_name": "tpwd",
   "language": "python",
   "name": "python3"
  },
  "language_info": {
   "codemirror_mode": {
    "name": "ipython",
    "version": 3
   },
   "file_extension": ".py",
   "mimetype": "text/x-python",
   "name": "python",
   "nbconvert_exporter": "python",
   "pygments_lexer": "ipython3",
   "version": "3.13.2"
  }
 },
 "nbformat": 4,
 "nbformat_minor": 2
}
